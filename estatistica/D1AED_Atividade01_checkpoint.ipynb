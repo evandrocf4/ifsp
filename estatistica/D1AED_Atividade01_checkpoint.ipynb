{
  "cells": [
    {
      "cell_type": "markdown",
      "metadata": {
        "id": "view-in-github",
        "colab_type": "text"
      },
      "source": [
        "<a href=\"https://colab.research.google.com/github/evandrocf4/ifsp/blob/main/estatistica/D1AED_Atividade01_checkpoint.ipynb\" target=\"_parent\"><img src=\"https://colab.research.google.com/assets/colab-badge.svg\" alt=\"Open In Colab\"/></a>"
      ]
    },
    {
      "cell_type": "markdown",
      "id": "c88c62b5-3689-4dc5-b2ad-4c0fef6238a8",
      "metadata": {
        "id": "c88c62b5-3689-4dc5-b2ad-4c0fef6238a8"
      },
      "source": [
        "# D1AED: Análise Estatística para Ciência de Dados (IFSP Campinas)"
      ]
    },
    {
      "cell_type": "markdown",
      "id": "33dc4361-93b0-4ad5-9882-8e72e676d6ab",
      "metadata": {
        "id": "33dc4361-93b0-4ad5-9882-8e72e676d6ab"
      },
      "source": [
        "## Atividade em Grupo 1 - Prazo: 09/05/2023 às 23:59\n",
        "Nesta atividade, cada grupo (**máximo de 3 integrantes**) deverá resolver a lista de exercícios presentes neste notebook. Todos os exercícios deverão ser respondidos no própio notebook usando Python. \n",
        "\n",
        "#### Submissão\n",
        "- Cada grupo deverá submeter um **arquivo .zip** contendo o _notebook_ com as respostas e a pasta `datasets`, contendo todos os datasets usados no notebook;\n",
        "- A submissão da atividade será feita em tarefa específica no Moodle da disciplina;\n",
        "- Apenas **um membro do grupo** deverá submeter a atividade;\n",
        "- Há materiais de apoio/estudos na tarefa do Moodle.\n",
        "\n",
        "**Prazo:** 09/05/2023 às 23:59"
      ]
    },
    {
      "cell_type": "markdown",
      "id": "4d2e16c5-d653-471e-8dcc-ed41be3ea64e",
      "metadata": {
        "id": "4d2e16c5-d653-471e-8dcc-ed41be3ea64e"
      },
      "source": [
        "#### **Nomes e Prontuários dos Integrantes do Grupo (máx 3):**\n",
        "- Fulano da Silva (123456789)\n",
        "- Sicrano de Oliveira (9999999)\n",
        "- Beltrano Santos (1111111)"
      ]
    },
    {
      "cell_type": "code",
      "execution_count": null,
      "id": "bbed9665-633b-49c5-b145-765af46cc4ca",
      "metadata": {
        "tags": [],
        "id": "bbed9665-633b-49c5-b145-765af46cc4ca"
      },
      "outputs": [],
      "source": [
        "import random\n",
        "import numpy as np\n",
        "\n",
        "random.seed(42)\n",
        "np.random.seed(seed=42)"
      ]
    },
    {
      "cell_type": "markdown",
      "id": "ad2d02fd-d5f1-4e37-b479-75016b6ec2ad",
      "metadata": {
        "id": "ad2d02fd-d5f1-4e37-b479-75016b6ec2ad"
      },
      "source": [
        "### Questão 1\n",
        "At a given university, forty percent of students speak three languages. When randomly selecting 15 students:"
      ]
    },
    {
      "cell_type": "markdown",
      "id": "ee426368-cf31-4bb5-935d-e75289acda0d",
      "metadata": {
        "id": "ee426368-cf31-4bb5-935d-e75289acda0d"
      },
      "source": [
        "**(a)** What is the probability that 3 students speak three languages?"
      ]
    },
    {
      "cell_type": "code",
      "execution_count": null,
      "id": "e79b2a0b-69a2-4641-8a5a-106a539f6f2c",
      "metadata": {
        "colab": {
          "base_uri": "https://localhost:8080/"
        },
        "id": "e79b2a0b-69a2-4641-8a5a-106a539f6f2c",
        "outputId": "ff76cd2f-8822-475c-b65f-44c10e2b980e"
      },
      "outputs": [
        {
          "output_type": "stream",
          "name": "stdout",
          "text": [
            "A probabilidade de exatamente 3 alunos falarem três línguas em um grupo de 15 é de 0.0625\n"
          ]
        }
      ],
      "source": [
        "n = 15 # número de alunos selecionados\n",
        "p = 0.4 # probabilidade de um aluno falar três idiomas\n",
        "k = 3 # número de alunos que falam três idiomas\n",
        "num_simulacoes = 100000\n",
        "\n",
        "amostras = np.random.binomial(n, p, size=num_simulacoes)\n",
        "probabilidade = np.mean(amostras == k)\n",
        "\n",
        "print(f\"A probabilidade de exatamente {k} alunos falarem três línguas em um grupo de {n} é de {probabilidade:.4f}\")\n"
      ]
    },
    {
      "cell_type": "markdown",
      "id": "0498cec8-83a0-405c-b9d4-87f167ad06e6",
      "metadata": {
        "id": "0498cec8-83a0-405c-b9d4-87f167ad06e6"
      },
      "source": [
        "**(b)** What is the probability that 12 students do not speak three languages?"
      ]
    },
    {
      "cell_type": "code",
      "execution_count": null,
      "id": "f0a6bbfa-d3cc-42d6-a73f-598eb84a9990",
      "metadata": {
        "colab": {
          "base_uri": "https://localhost:8080/"
        },
        "id": "f0a6bbfa-d3cc-42d6-a73f-598eb84a9990",
        "outputId": "0e7ee09e-b86b-4db8-a4e1-d9709e8f32b1"
      },
      "outputs": [
        {
          "output_type": "stream",
          "name": "stdout",
          "text": [
            "A probabilidade de exatamente 12 alunos não falarem três línguas em um grupo de 15 é de 0.0620\n"
          ]
        }
      ],
      "source": [
        "n = 15\n",
        "p = 0.6 # Probabilidade complementar, de não falar três línguas\n",
        "k = 12\n",
        "num_simulacoes = 100000\n",
        "\n",
        "amostras = np.random.binomial(n, p, size=num_simulacoes)\n",
        "probabilidade = np.mean(amostras == k)\n",
        "\n",
        "print(f\"A probabilidade de exatamente {k} alunos não falarem três línguas em um grupo de {n} é de {probabilidade:.4f}\")\n"
      ]
    },
    {
      "cell_type": "markdown",
      "id": "704401e9-3ce6-4408-a4ef-f76e90c4606c",
      "metadata": {
        "id": "704401e9-3ce6-4408-a4ef-f76e90c4606c"
      },
      "source": [
        "**(c)** What is the probability that at least 3 students speak three languages?"
      ]
    },
    {
      "cell_type": "code",
      "execution_count": null,
      "id": "edd3a762-3f0e-4b56-87da-a1e3e7c68bcc",
      "metadata": {
        "colab": {
          "base_uri": "https://localhost:8080/"
        },
        "id": "edd3a762-3f0e-4b56-87da-a1e3e7c68bcc",
        "outputId": "e8c617e2-8b5b-4cc6-a63a-c521c7c146d4"
      },
      "outputs": [
        {
          "output_type": "stream",
          "name": "stdout",
          "text": [
            "A probabilidade de pelo menos 3 alunos falarem três línguas em um grupo de 15 é de 0.9724\n"
          ]
        }
      ],
      "source": [
        "n = 15\n",
        "p = 0.4\n",
        "k = 3\n",
        "num_simulacoes = 100000\n",
        "\n",
        "amostras = np.random.binomial(n, p, size=num_simulacoes)\n",
        "probabilidade = np.mean(amostras >= k)\n",
        "\n",
        "print(f\"A probabilidade de pelo menos {k} alunos falarem três línguas em um grupo de {n} é de {probabilidade:.4f}\")"
      ]
    },
    {
      "cell_type": "markdown",
      "id": "b5f9d848-85a6-4720-a5d1-c415a55384ab",
      "metadata": {
        "id": "b5f9d848-85a6-4720-a5d1-c415a55384ab"
      },
      "source": [
        "### Questão 2\n",
        "\n",
        "The mean of defects in ethernet cables manufactured by a company is 1.2 defects for every 6 meters of length. \n",
        "What is the probability of getting less than 2 defects when inspecting 6 meters of cable at random?"
      ]
    },
    {
      "cell_type": "code",
      "execution_count": null,
      "id": "20166869-128d-493e-bd45-4de707434b74",
      "metadata": {
        "colab": {
          "base_uri": "https://localhost:8080/"
        },
        "id": "20166869-128d-493e-bd45-4de707434b74",
        "outputId": "4a3aad2c-58b3-4146-d7a3-e8cc96faed20"
      },
      "outputs": [
        {
          "output_type": "stream",
          "name": "stdout",
          "text": [
            "A probabilidade de obter menos de 2 defeitos em 6 metros de cabo é de 0.0065\n"
          ]
        }
      ],
      "source": [
        "media = 1.2 # média de defeitos por 6 metros\n",
        "comprimento = 6 # comprimento de cabo a ser inspecionado\n",
        "k = 2 # número máximo de defeitos permitidos\n",
        "num_simulacoes = 100000\n",
        "\n",
        "amostras = np.random.poisson(lam=media*comprimento, size=num_simulacoes) #amostras aleatórias da distribuição de Poisson com a média igual a 1,2 defeitos por 6 metros\n",
        "probabilidade = np.mean(amostras < k)\n",
        "\n",
        "print(f\"A probabilidade de obter menos de {k} defeitos em {comprimento} metros de cabo é de {probabilidade:.4f}\")"
      ]
    },
    {
      "cell_type": "markdown",
      "id": "b3b4928b-44dc-411a-a73f-8be145e92cf9",
      "metadata": {
        "id": "b3b4928b-44dc-411a-a73f-8be145e92cf9"
      },
      "source": [
        "### Questão 3\n",
        "\n",
        "If we consider the distribution of blood types in Hawkins —— where 30% of the population has O+ blood type, 33% has A+, 12% has B+, 6% has AB+, 7% has O-, 8% has A-, 3% has B-, and 1% has AB- —— what is the probability that a group of 15 randomly chosen Austrian citizens will consist of 3 individuals with O+ blood type, 2 with A+, 3 with B+, 2 with AB+, 1 with O- blood type?"
      ]
    },
    {
      "cell_type": "code",
      "execution_count": null,
      "id": "02cfc6d8-ba6d-4b57-ac35-dcbff054c5c3",
      "metadata": {
        "tags": [],
        "id": "02cfc6d8-ba6d-4b57-ac35-dcbff054c5c3"
      },
      "outputs": [],
      "source": [
        "Zero"
      ]
    },
    {
      "cell_type": "markdown",
      "id": "30e5cb9d-7dbb-4a38-9942-6a2fd70085ae",
      "metadata": {
        "id": "30e5cb9d-7dbb-4a38-9942-6a2fd70085ae"
      },
      "source": [
        "### Questão 4\n",
        "\n",
        "Patients with a serious illness have been treated by a drug that causes a side effect at a rate of three patiences in a hundred. When selecting ten patients treated with this drug, what is the chance that at least one will have side effects?"
      ]
    },
    {
      "cell_type": "code",
      "execution_count": null,
      "id": "d6b7126e-bf15-43a2-8d8a-e6932dbaa1ac",
      "metadata": {
        "colab": {
          "base_uri": "https://localhost:8080/"
        },
        "id": "d6b7126e-bf15-43a2-8d8a-e6932dbaa1ac",
        "outputId": "8ac1ef91-d68e-4f57-a24b-a65f0f1e3fa9"
      },
      "outputs": [
        {
          "output_type": "stream",
          "name": "stdout",
          "text": [
            "A probabilidade de pelo menos um paciente apresentar efeitos colaterais é 0.2614\n"
          ]
        }
      ],
      "source": [
        "n = 10\n",
        "p = 0.03\n",
        "\n",
        "# Probabilidade de nenhum paciente ter efeitos colaterais\n",
        "prob_nenhum = np.random.binomial(n, p, size=100000) == 0\n",
        "prob_pelo_menos_um = 1 - np.mean(prob_nenhum)\n",
        "\n",
        "print(f\"A probabilidade de pelo menos um paciente apresentar efeitos colaterais é {prob_pelo_menos_um:.4f}\")\n"
      ]
    },
    {
      "cell_type": "markdown",
      "id": "7f1317f5-359c-4138-8062-cc7dcdb0e565",
      "metadata": {
        "id": "7f1317f5-359c-4138-8062-cc7dcdb0e565"
      },
      "source": [
        "### Questão 5\n",
        "\n",
        "The length of a human pregnancy approximates a normal distribution with a mean of 272 days with a standard deviation of 9 days."
      ]
    },
    {
      "cell_type": "markdown",
      "id": "750e4111-b478-4151-a66b-ed05b514bcf2",
      "metadata": {
        "id": "750e4111-b478-4151-a66b-ed05b514bcf2"
      },
      "source": [
        "**(a)** What proportion of all pregnancies will last between 265 and 280 days?"
      ]
    },
    {
      "cell_type": "code",
      "execution_count": null,
      "id": "399ba8bb-9c02-4f03-a672-cd3b1e096ec1",
      "metadata": {
        "colab": {
          "base_uri": "https://localhost:8080/"
        },
        "id": "399ba8bb-9c02-4f03-a672-cd3b1e096ec1",
        "outputId": "314cfeed-d3b9-4f63-c018-9126d78bf6c5"
      },
      "outputs": [
        {
          "output_type": "stream",
          "name": "stdout",
          "text": [
            "A proporção de todas as gestações que duram entre 265 e 280 dias é 0.5946\n"
          ]
        }
      ],
      "source": [
        "import scipy.stats as stats\n",
        "\n",
        "media = 272\n",
        "desvio_padrao = 9\n",
        "\n",
        "z_265 = (265 - media) / desvio_padrao\n",
        "z_280 = (280 - media) / desvio_padrao\n",
        "\n",
        "prob_265_280 = np.abs(np.diff(stats.norm.cdf([z_265, z_280])))\n",
        "\n",
        "print(f\"A proporção de todas as gestações que duram entre 265 e 280 dias é {prob_265_280[0]:.4f}\")"
      ]
    },
    {
      "cell_type": "markdown",
      "id": "6d3cf0c9-5d09-4180-a78f-e3d23b2b9437",
      "metadata": {
        "id": "6d3cf0c9-5d09-4180-a78f-e3d23b2b9437"
      },
      "source": [
        "**(b)** What length of time marks the shortest 70% of all pregnancies? "
      ]
    },
    {
      "cell_type": "code",
      "execution_count": null,
      "id": "462eb623-0e2b-4a14-9f33-593ac9f5dfa8",
      "metadata": {
        "colab": {
          "base_uri": "https://localhost:8080/"
        },
        "id": "462eb623-0e2b-4a14-9f33-593ac9f5dfa8",
        "outputId": "86582694-9a43-4daa-bb91-9ade27cb7d6d"
      },
      "outputs": [
        {
          "output_type": "stream",
          "name": "stdout",
          "text": [
            "O período de tempo que marca os 70% mais curtos de todas as gestações é 267.28 dias.\n"
          ]
        }
      ],
      "source": [
        "media = 272\n",
        "desvio_padrao = 9\n",
        "\n",
        "tempo_percentil_30 = stats.norm.ppf(0.3, media, desvio_padrao)\n",
        "\n",
        "print(f\"O período de tempo que marca os 70% mais curtos de todas as gestações é {tempo_percentil_30:.2f} dias.\")"
      ]
    },
    {
      "cell_type": "markdown",
      "id": "70f08783-93a7-418c-a8c8-66e9927c76a7",
      "metadata": {
        "id": "70f08783-93a7-418c-a8c8-66e9927c76a7"
      },
      "source": [
        "### Questão 6\n",
        "\n",
        "The average numbers of traffic accidents on a certain section of highway is 0.5 per week. <br/>\n",
        "Find the probability that:"
      ]
    },
    {
      "cell_type": "markdown",
      "id": "3e148e3f-4a72-4215-8506-f6233bf0a1ed",
      "metadata": {
        "id": "3e148e3f-4a72-4215-8506-f6233bf0a1ed"
      },
      "source": [
        "**(a)** There will be less than 2 accidents in a week selected at random:"
      ]
    },
    {
      "cell_type": "code",
      "execution_count": null,
      "id": "5e7b4c08-5efa-47f4-84f8-d9034f8b1283",
      "metadata": {
        "colab": {
          "base_uri": "https://localhost:8080/"
        },
        "id": "5e7b4c08-5efa-47f4-84f8-d9034f8b1283",
        "outputId": "939b3e18-160c-470e-fafd-abcfc0acd603"
      },
      "outputs": [
        {
          "output_type": "stream",
          "name": "stdout",
          "text": [
            "A probabilidade de haver menos de 2 acidentes em uma semana é de 1.00\n"
          ]
        }
      ],
      "source": [
        "import numpy as np\n",
        "\n",
        "media = 0.5\n",
        "semana = 1\n",
        "probabilidade = np.sum(np.random.poisson(media, semana) < 2) / semana\n",
        "\n",
        "print(f\"A probabilidade de haver menos de 2 acidentes em uma semana é de {probabilidade:.2f}\")"
      ]
    },
    {
      "cell_type": "markdown",
      "id": "63d04db5-a3d0-4a45-b65e-897eddd76423",
      "metadata": {
        "id": "63d04db5-a3d0-4a45-b65e-897eddd76423"
      },
      "source": [
        "**(b)** In a particular week, there will be more than 2 accidents:"
      ]
    },
    {
      "cell_type": "code",
      "execution_count": null,
      "id": "7f11881b-dee1-4f53-a2da-c68623fc20f9",
      "metadata": {
        "colab": {
          "base_uri": "https://localhost:8080/"
        },
        "id": "7f11881b-dee1-4f53-a2da-c68623fc20f9",
        "outputId": "835a95fb-bcc8-4de8-ac70-09a3e8911047"
      },
      "outputs": [
        {
          "output_type": "stream",
          "name": "stdout",
          "text": [
            "A probabilidade de haver mais de 2 acidentes em uma semana é de 0.00\n"
          ]
        }
      ],
      "source": [
        "media = 0.5\n",
        "semana = 1\n",
        "probabilidade = 1 - np.sum(np.random.poisson(media, semana) < 3) / semana\n",
        "\n",
        "print(f\"A probabilidade de haver mais de 2 acidentes em uma semana é de {probabilidade:.2f}\")"
      ]
    },
    {
      "cell_type": "markdown",
      "id": "5ea44b99-a413-4195-a99b-85b9d9ced692",
      "metadata": {
        "id": "5ea44b99-a413-4195-a99b-85b9d9ced692"
      },
      "source": [
        "**(c)** There will be no accidents in three weeks:"
      ]
    },
    {
      "cell_type": "code",
      "execution_count": null,
      "id": "7291a076-76fe-4e9b-8d6a-bca283de43cb",
      "metadata": {
        "colab": {
          "base_uri": "https://localhost:8080/"
        },
        "id": "7291a076-76fe-4e9b-8d6a-bca283de43cb",
        "outputId": "c201c639-7fd9-4f8d-9f1e-d03c3a26d752"
      },
      "outputs": [
        {
          "output_type": "stream",
          "name": "stdout",
          "text": [
            "A probabilidade de não haver acidentes em três semanas consecutivas é de 0.2231\n"
          ]
        }
      ],
      "source": [
        "media = 0.5\n",
        "probabilidade = np.exp(-3 * media)\n",
        "\n",
        "print(f\"A probabilidade de não haver acidentes em três semanas consecutivas é de {probabilidade:.4f}\")"
      ]
    },
    {
      "cell_type": "markdown",
      "id": "f948e57c-eaa5-497c-8111-b535e925899a",
      "metadata": {
        "id": "f948e57c-eaa5-497c-8111-b535e925899a"
      },
      "source": [
        "### Questão 7\n",
        "\n",
        "Suppose you are drawing cards randomly from a standard deck with 52 cards, replacing each card after drawing, and repeating the process five times. What is the likelihood of drawing one heart, one spade, one club, and two diamonds?"
      ]
    },
    {
      "cell_type": "code",
      "execution_count": null,
      "id": "633d65d9-bd6c-476b-a314-60a2c4163930",
      "metadata": {
        "tags": [],
        "colab": {
          "base_uri": "https://localhost:8080/"
        },
        "id": "633d65d9-bd6c-476b-a314-60a2c4163930",
        "outputId": "5a4d91cf-8e5a-4074-8c54-e85cab8cbb52"
      },
      "outputs": [
        {
          "output_type": "stream",
          "name": "stdout",
          "text": [
            "A probabilidade de sair uma copas, uma espadas, um paus e duas ouros é de aproximadamente 0.2345\n"
          ]
        }
      ],
      "source": [
        "# Definir o número de tentativas\n",
        "num_tentativas = 100000\n",
        "\n",
        "# Contador de sucesso\n",
        "num_sucessos = 0\n",
        "\n",
        "# Realizar as tentativas\n",
        "for i in range(num_tentativas):\n",
        "    # Simular retirada de 5 cartas aleatoriamente com reposição\n",
        "    cartas = np.random.choice(['C', 'E', 'P', 'O'], size=5)\n",
        "    \n",
        "    # Contar quantas cartas de cada naipe foram retiradas\n",
        "    contagem = np.unique(cartas, return_counts=True)\n",
        "    \n",
        "    # Verificar se foram retiradas uma carta de copas, uma de espadas, uma de paus e duas de ouros\n",
        "    if set(contagem[0]) == {'C', 'E', 'P', 'O'} and \\\n",
        "       set(contagem[1]) == {1, 1, 1, 2}:\n",
        "        num_sucessos += 1\n",
        "\n",
        "# Calcular a probabilidade de sucesso\n",
        "probabilidade = num_sucessos / num_tentativas\n",
        "\n",
        "print(f\"A probabilidade de sair uma copas, uma espadas, um paus e duas ouros é de aproximadamente {probabilidade:.4f}\")"
      ]
    },
    {
      "cell_type": "markdown",
      "id": "75d9cc65-ae23-43f8-ba83-86776b8c8ad3",
      "metadata": {
        "id": "75d9cc65-ae23-43f8-ba83-86776b8c8ad3"
      },
      "source": [
        "### Questão 8\n",
        "\n",
        "A factory produces chocolates in boxes of 200. The probability of missing one chocolate in a box is 0.006. What is the probability that a randomly selected box is missing at most two chocolates? <br/>\n",
        "**Tip:** [Poisson Approximation to the Binomial.](https://bestmaths.net/online/index.php/year-levels/year-12/year-12-topic-list/poisson-approximation-binomial/#:~:text=Poisson%20Approximation%20to%20the%20Binomial&text=When%20the%20value%20of%20n,Poisson%20is%20a%20good%20approximation.)"
      ]
    },
    {
      "cell_type": "code",
      "execution_count": 19,
      "id": "714b9c56-7f7b-48e5-a18f-7b700b26f1a2",
      "metadata": {
        "colab": {
          "base_uri": "https://localhost:8080/"
        },
        "id": "714b9c56-7f7b-48e5-a18f-7b700b26f1a2",
        "outputId": "c27d4f12-b668-42f2-d96f-f91551ff8070"
      },
      "outputs": [
        {
          "output_type": "stream",
          "name": "stdout",
          "text": [
            "A probabilidade de uma caixa estar faltando no máximo dois chocolates é de 0.8794870987836302\n"
          ]
        }
      ],
      "source": [
        "import math\n",
        "# Podemos aproximar a distribuição binomial pela distribuição de Poisson com parâmetro lambda = n * p quando n é grande e p é pequeno.\n",
        "# Neste caso, n = 200 e p = 0.006, e n * p = 1.2, que é maior do que 1.\n",
        "# Portanto, podemos usar a distribuição de Poisson com lambda = 1.2 como uma aproximação.\n",
        "# A probabilidade de faltar exatamente k chocolates em uma caixa é dada pela fórmula da distribuição de Poisson:\n",
        "# P(k; lambda) = (e^(-lambda) * lambda^k) / k!\n",
        "# Assim, a probabilidade de uma caixa estar faltando no máximo dois chocolates é dada por:\n",
        "# P(0; 1.2) + P(1; 1.2) + P(2; 1.2)\n",
        "\n",
        "lam = 1.2\n",
        "\n",
        "P_0 = math.exp(-lam) * lam**0 / math.factorial(0)\n",
        "P_1 = math.exp(-lam) * lam**1 / math.factorial(1)\n",
        "P_2 = math.exp(-lam) * lam**2 / math.factorial(2)\n",
        "\n",
        "P_max_2 = P_0 + P_1 + P_2\n",
        "\n",
        "print(\"A probabilidade de uma caixa estar faltando no máximo dois chocolates é de\", P_max_2)"
      ]
    },
    {
      "cell_type": "markdown",
      "id": "c0df96d4-0b29-463c-91d2-a43abe467df6",
      "metadata": {
        "id": "c0df96d4-0b29-463c-91d2-a43abe467df6"
      },
      "source": [
        "### Questão 9\n",
        "In a town, the distance traveled by students to school is normally distributed with $\\mu=7.5$km and $\\sigma=2.5$km."
      ]
    },
    {
      "cell_type": "markdown",
      "id": "a54af25b-f3d0-42dc-b360-a2d16ff6a296",
      "metadata": {
        "id": "a54af25b-f3d0-42dc-b360-a2d16ff6a296"
      },
      "source": [
        "**(a)** What is the probability that the distance covered by a randomly selected student is less than 11 km?"
      ]
    },
    {
      "cell_type": "code",
      "execution_count": 3,
      "id": "f12aa861-813b-4d21-9ff9-40c44e5b4e44",
      "metadata": {
        "colab": {
          "base_uri": "https://localhost:8080/"
        },
        "id": "f12aa861-813b-4d21-9ff9-40c44e5b4e44",
        "outputId": "d4262df3-229f-4567-b3ca-a61a9134f6d0"
      },
      "outputs": [
        {
          "output_type": "stream",
          "name": "stdout",
          "text": [
            "A probabilidade é de 91.92%\n"
          ]
        }
      ],
      "source": [
        "from scipy.stats import norm\n",
        "\n",
        "#Primeiro é preciso converter a variável aleatória para uma variável aleatória padronizada utilizando Z = (X-μ)/σ, com X a distância percorrida pelos alunos\n",
        "\n",
        "μ = 7.5\n",
        "σ = 2.5\n",
        "X = 11\n",
        "\n",
        "Z = (X - μ)/σ\n",
        "\n",
        "#Da tabela de distribuição normal padrão (cdf do módulo  scipy.stats) temos\n",
        "\n",
        "probabilidade = norm.cdf(Z)\n",
        "\n",
        "#print(probabilidade)\n",
        "print(\"A probabilidade é de {:.2f}%\".format(probabilidade*100))"
      ]
    },
    {
      "cell_type": "markdown",
      "id": "bba1e671-89a0-41d4-bae8-d210f38a81b4",
      "metadata": {
        "id": "bba1e671-89a0-41d4-bae8-d210f38a81b4"
      },
      "source": [
        "**(b)** What is the probability that the distance covered by a randomly selected student is betweem 5.5 km than 10.5 km?"
      ]
    },
    {
      "cell_type": "code",
      "execution_count": null,
      "id": "ae375044-41f7-4797-bbdd-c4803ae6826f",
      "metadata": {
        "colab": {
          "base_uri": "https://localhost:8080/"
        },
        "id": "ae375044-41f7-4797-bbdd-c4803ae6826f",
        "outputId": "0edaabe0-4ab0-46f3-f96e-be07511b9851"
      },
      "outputs": [
        {
          "output_type": "stream",
          "name": "stdout",
          "text": [
            "A probabilidade é de 67.31%\n"
          ]
        }
      ],
      "source": [
        "mu = 7.5\n",
        "sigma = 2.5\n",
        "\n",
        "p = norm.cdf(10.5, mu, sigma) - norm.cdf(5.5, mu, sigma)\n",
        "\n",
        "print(\"A probabilidade é de {:.2f}%\".format(p*100))"
      ]
    },
    {
      "cell_type": "markdown",
      "id": "aaefb99d-0f76-4d2c-98e4-46da2b6cfa1f",
      "metadata": {
        "id": "aaefb99d-0f76-4d2c-98e4-46da2b6cfa1f"
      },
      "source": [
        "**(c)** Find _d_ such that 10% of the students travel less than _d_ kilometers to school."
      ]
    },
    {
      "cell_type": "code",
      "execution_count": null,
      "id": "1423d329-014c-4008-b14a-d3217d95bbf4",
      "metadata": {
        "colab": {
          "base_uri": "https://localhost:8080/"
        },
        "id": "1423d329-014c-4008-b14a-d3217d95bbf4",
        "outputId": "c31a7972-f2bc-4c2f-ebb4-393ef46a8ccb"
      },
      "outputs": [
        {
          "output_type": "stream",
          "name": "stdout",
          "text": [
            "A probabilidade de um aluno viajar menos de 11 km é de 0.92\n",
            "A probabilidade de um aluno viajar entre 5.5 km e 10.5 km é de 0.67\n",
            "O valor de d é 4.30\n"
          ]
        }
      ],
      "source": [
        "mu = 7.5  # média\n",
        "sigma = 2.5  # desvio padrão\n",
        "\n",
        "# Probabilidade de distância menor que 11 km\n",
        "p1 = norm.cdf(11, loc=mu, scale=sigma)\n",
        "\n",
        "# Probabilidade de distância entre 5.5 km e 10.5 km\n",
        "p2 = norm.cdf(10.5, loc=mu, scale=sigma) - norm.cdf(5.5, loc=mu, scale=sigma)\n",
        "\n",
        "# Encontrar d tal que 10% dos alunos viajem menos de d quilômetros até a escola\n",
        "d = norm.ppf(0.1, loc=mu, scale=sigma)\n",
        "\n",
        "print(f\"A probabilidade de um aluno viajar menos de 11 km é de {p1:.2f}\")\n",
        "print(f\"A probabilidade de um aluno viajar entre 5.5 km e 10.5 km é de {p2:.2f}\")\n",
        "print(f\"O valor de d é {d:.2f}\")\n"
      ]
    },
    {
      "cell_type": "markdown",
      "id": "637478bc-c439-4a30-9a26-2984c9ba236a",
      "metadata": {
        "id": "637478bc-c439-4a30-9a26-2984c9ba236a"
      },
      "source": [
        "**(d)** What is the probability that the mean distance traveled by a random sample of 6 students is less than 5 km? <br/>\n",
        "**Tip:** Central Limit Theorem."
      ]
    },
    {
      "cell_type": "code",
      "execution_count": 6,
      "id": "4348835e-3591-402d-9914-d5dd45c04d90",
      "metadata": {
        "colab": {
          "base_uri": "https://localhost:8080/"
        },
        "id": "4348835e-3591-402d-9914-d5dd45c04d90",
        "outputId": "395f9135-0d1a-489f-bece-02dc69f5f8ca"
      },
      "outputs": [
        {
          "output_type": "stream",
          "name": "stdout",
          "text": [
            "A probabilidade é de 0.72%\n"
          ]
        }
      ],
      "source": [
        "\n",
        "mu = 7.5  # média\n",
        "sigma = 2.5  # desvio padrão\n",
        "n = 6  # tamanho da amostra\n",
        "\n",
        "# calculando a distribuição da média amostral\n",
        "mu_s = mu\n",
        "sigma_s = sigma / n**0.5\n",
        "\n",
        "# calculando a probabilidade usando a distribuição normal padrão\n",
        "z = (5 - mu_s) / sigma_s\n",
        "p = norm.cdf(z)\n",
        "\n",
        "#print(f\"A probabilidade é de {p:.4f}\")\n",
        "print(\"A probabilidade é de {:.2f}%\".format(p*100))"
      ]
    },
    {
      "cell_type": "markdown",
      "id": "4a165f68-c15d-49c9-8d57-a573b10a930f",
      "metadata": {
        "id": "4a165f68-c15d-49c9-8d57-a573b10a930f"
      },
      "source": [
        "### Questão 10\n",
        "\n",
        "Suppose a recent poll showed that among the respondents, 23% supported candidate A, 19% supported candidate B, 13% supported candidate C, and the rest were undecided. If seven individuals are randomly selected, what is the likelihood that 2 of them support candidate A, 2 support candidate B, and 1 supports candidate C?"
      ]
    },
    {
      "cell_type": "code",
      "execution_count": null,
      "id": "33a4804f-984e-473e-a503-3bff16fe0386",
      "metadata": {
        "tags": [],
        "colab": {
          "base_uri": "https://localhost:8080/"
        },
        "id": "33a4804f-984e-473e-a503-3bff16fe0386",
        "outputId": "70f4a8ec-2fb9-4c9d-a256-2e865d748645"
      },
      "outputs": [
        {
          "output_type": "stream",
          "name": "stdout",
          "text": [
            "0.031671731227499986\n"
          ]
        }
      ],
      "source": [
        "from scipy.stats import multinomial\n",
        "\n",
        "p = [0.23, 0.19, 0.13, 0.45]  # probabilidades de cada categoria\n",
        "n = 7  # número de indivíduos selecionados\n",
        "x = [2, 2, 1, 2]  # número de sucessos em cada categoria\n",
        "\n",
        "prob = multinomial.pmf(x, n, p)\n",
        "print(prob)"
      ]
    },
    {
      "cell_type": "markdown",
      "id": "1983880e-13ff-44b8-9062-ddbc0ecab388",
      "metadata": {
        "id": "1983880e-13ff-44b8-9062-ddbc0ecab388"
      },
      "source": [
        "### Questão 11\n",
        "\n",
        "The recovery time of a patient with a certain illness follows a normal distribution with a standard deviation of 2 days. Calculate the confidence level for a sample of 12 patients which indicates that the population recovery time is between 13 and 15 days."
      ]
    },
    {
      "cell_type": "code",
      "execution_count": 17,
      "id": "5bc2c021-d856-400a-a65c-054673611253",
      "metadata": {
        "colab": {
          "base_uri": "https://localhost:8080/"
        },
        "id": "5bc2c021-d856-400a-a65c-054673611253",
        "outputId": "cf0e47c0-29b9-4f34-ea92-34fbc330ea90"
      },
      "outputs": [
        {
          "output_type": "stream",
          "name": "stdout",
          "text": [
            "Intervalo de confiança: [12.87, 15.13]\n",
            "Isso significa que temos 95% de confiança de que a média populacional está entre 12.87 e 15.13 dias.\n",
            "Como o intervalo inclui os valores de 13 e 15 dias, podemos afirmar que essa amostra fornece evidências de que o tempo de recuperação da população está entre esses valores com um nível de confiança de 95%.\n"
          ]
        }
      ],
      "source": [
        "from scipy.stats import norm\n",
        "import math\n",
        "\n",
        "# Dados do problema\n",
        "desvio_padrao = 2\n",
        "n = 12\n",
        "x_barra = 14\n",
        "\n",
        "# Intervalo de confiança desejado\n",
        "confianca = 0.95\n",
        "\n",
        "# Valor crítico de z\n",
        "valor_critico = norm.ppf((1 + confianca) / 2)\n",
        "\n",
        "# Erro padrão da média\n",
        "erro_padrao = desvio_padrao / math.sqrt(n)\n",
        "\n",
        "# Intervalo de confiança\n",
        "limite_inferior = x_barra - valor_critico * erro_padrao\n",
        "limite_superior = x_barra + valor_critico * erro_padrao\n",
        "\n",
        "print(\"Intervalo de confiança: [{:.2f}, {:.2f}]\".format(limite_inferior, limite_superior))\n",
        "print(\"Isso significa que temos {:.0f}% de confiança de que a média populacional está entre {:.2f} e {:.2f} dias.\\nComo o intervalo inclui os valores de 13 e 15 dias, podemos afirmar que essa amostra fornece evidências de que o tempo de recuperação da população está entre esses valores com um nível de confiança de {:.0f}%.\".format(confianca*100, limite_inferior, limite_superior, confianca*100))"
      ]
    },
    {
      "cell_type": "markdown",
      "id": "38a5d6e3-a786-4a0c-ac72-7b5c12df9fea",
      "metadata": {
        "id": "38a5d6e3-a786-4a0c-ac72-7b5c12df9fea"
      },
      "source": [
        "### Questão 12\n",
        "\n",
        "John moved out to _Stats City_ for work. John needs to rent a place to live, so he has compiled a list of 60 apartments randomly chosen from the EasyRent real estate. This compilation is stored at the dataset `'./datasets/rents.csv'`, where the column `price` is the monthly rent price in dollars."
      ]
    },
    {
      "cell_type": "markdown",
      "id": "ec30039a-5bd7-443a-a153-f951ee6b4617",
      "metadata": {
        "id": "ec30039a-5bd7-443a-a153-f951ee6b4617"
      },
      "source": [
        "**(a)** Construct a 95% confidence interval by Central Limit Theorem and Bootstrapping. Compare the results."
      ]
    },
    {
      "cell_type": "code",
      "execution_count": null,
      "id": "cba3396c-8e89-4972-8bb7-6c228665df99",
      "metadata": {
        "id": "cba3396c-8e89-4972-8bb7-6c228665df99"
      },
      "outputs": [],
      "source": []
    },
    {
      "cell_type": "markdown",
      "id": "d3a6388f-284e-4713-b16c-1f3f1d9196b2",
      "metadata": {
        "id": "d3a6388f-284e-4713-b16c-1f3f1d9196b2"
      },
      "source": [
        "**(b)** To what population of apartments can you appropriately infer from your sample?"
      ]
    },
    {
      "cell_type": "markdown",
      "id": "864ba4d8-11ce-4694-ba5b-ba4a1857373d",
      "metadata": {
        "id": "864ba4d8-11ce-4694-ba5b-ba4a1857373d"
      },
      "source": [
        "We can most accurately infer to Stats Cits apartments listed on EasyRent. <br/>\n",
        "We should not infer to _all_ apartments in Stats City because we do not know if apartments on EasyRent are representative of all apartments in Stats City."
      ]
    },
    {
      "cell_type": "markdown",
      "id": "529014f9-432e-4eb6-a4d1-1d07804e357e",
      "metadata": {
        "id": "529014f9-432e-4eb6-a4d1-1d07804e357e"
      },
      "source": [
        "**(c)** How large a sample of apartments be needed to estimate the population mean within $\\pm$ \\$50.0 with 90% confidence?"
      ]
    },
    {
      "cell_type": "code",
      "execution_count": null,
      "id": "ece221ba-77b1-4b4b-a0bb-727d2f41082f",
      "metadata": {
        "id": "ece221ba-77b1-4b4b-a0bb-727d2f41082f"
      },
      "outputs": [],
      "source": []
    },
    {
      "cell_type": "markdown",
      "id": "7027bb78-6656-4f4e-a9f5-9a68776ccb43",
      "metadata": {
        "id": "7027bb78-6656-4f4e-a9f5-9a68776ccb43"
      },
      "source": [
        "### Questão 13\n",
        "\n",
        "In order to estimate the average height of the population of a town, a survey collected a sample containing the height of 400 people chosen at random. The file `'./datasets/heights.csv'` contains the registered heights.\n",
        "\n",
        "The average heights of a random sample of 400 people from a city is 1.75 m. It is known that the heights of the population are random variables that follow a normal distribution with a variance of 0.16."
      ]
    },
    {
      "cell_type": "markdown",
      "id": "ce5098c0-4aaa-4b9c-9b72-f87802e09f5b",
      "metadata": {
        "id": "ce5098c0-4aaa-4b9c-9b72-f87802e09f5b"
      },
      "source": [
        "**(a)** Construct a 95% confidence interval by using the Central Limit Theorem and Bootstrapping. Compare the results."
      ]
    },
    {
      "cell_type": "code",
      "execution_count": null,
      "id": "8c2f7f94-5701-439e-878b-517009decdaf",
      "metadata": {
        "id": "8c2f7f94-5701-439e-878b-517009decdaf"
      },
      "outputs": [],
      "source": []
    },
    {
      "cell_type": "markdown",
      "id": "873f491f-02e1-473f-8453-e7a7333fb3d6",
      "metadata": {
        "id": "873f491f-02e1-473f-8453-e7a7333fb3d6"
      },
      "source": [
        "**(b)** With a confidence level of 90%, what would the minimum sample size need to be in order for the true mean of the heights to be less than 2 cm from the sample mean?"
      ]
    },
    {
      "cell_type": "code",
      "execution_count": null,
      "id": "b2b57d67-d39f-4b14-9e84-71f8105ea953",
      "metadata": {
        "id": "b2b57d67-d39f-4b14-9e84-71f8105ea953"
      },
      "outputs": [],
      "source": []
    },
    {
      "cell_type": "markdown",
      "id": "903c3176-48ee-48c0-95ff-e1784d6f8483",
      "metadata": {
        "id": "903c3176-48ee-48c0-95ff-e1784d6f8483"
      },
      "source": [
        "### Questão 14\n",
        "\n",
        "Monthly sales for a bakery follow a normal distribution with a standard deviation of \\\\$900.00. By statistically studying sales in the last 9 months, a confidence interval for the mean monthly sales of [\\\\$4,663.00, \\\\$5,839.00] was found."
      ]
    },
    {
      "cell_type": "markdown",
      "id": "b2959c7b-a642-4fd4-8e13-551b6d58068e",
      "metadata": {
        "id": "b2959c7b-a642-4fd4-8e13-551b6d58068e"
      },
      "source": [
        "**(a)** What were the average sales over the nine month period?"
      ]
    },
    {
      "cell_type": "code",
      "execution_count": null,
      "id": "be4cb3ac-5669-4dc5-ae08-ae338549dc4a",
      "metadata": {
        "colab": {
          "base_uri": "https://localhost:8080/"
        },
        "id": "be4cb3ac-5669-4dc5-ae08-ae338549dc4a",
        "outputId": "a6991152-fe87-4728-9bf0-6a6ee1a4df38"
      },
      "outputs": [
        {
          "output_type": "stream",
          "name": "stdout",
          "text": [
            "A média de vendas durante o período de nove meses foi de: 5251.0 reais.\n"
          ]
        }
      ],
      "source": [
        "media_vendas = (4663 + 5839) / 2\n",
        "print(\"A média de vendas durante o período de nove meses foi de:\", media_vendas, \"reais.\")"
      ]
    },
    {
      "cell_type": "markdown",
      "id": "3e1be4ac-39ee-49bb-a34f-db7e7c61e307",
      "metadata": {
        "id": "3e1be4ac-39ee-49bb-a34f-db7e7c61e307"
      },
      "source": [
        "**(b)** What is the confidence level for this interval?"
      ]
    },
    {
      "cell_type": "code",
      "execution_count": null,
      "id": "b3868b6b-69c4-45cd-87ca-0bc750aa6ee1",
      "metadata": {
        "colab": {
          "base_uri": "https://localhost:8080/"
        },
        "id": "b3868b6b-69c4-45cd-87ca-0bc750aa6ee1",
        "outputId": "f3788cd0-14d7-4475-af84-632e321f8d70"
      },
      "outputs": [
        {
          "output_type": "stream",
          "name": "stdout",
          "text": [
            "Erro padrão da média (EPM): 254.98653322730968\n",
            "Valor crítico: 2.3060041350333704\n",
            "Nível de confiança: 0.2158738024951622\n"
          ]
        }
      ],
      "source": [
        "import scipy.stats as stats\n",
        "\n",
        "limite_inferior = 4663\n",
        "limite_superior = 5839\n",
        "n = 9\n",
        "desvio_padrao = 900\n",
        "\n",
        "EPM = (limite_superior - limite_inferior) / (2 * stats.t.ppf(1 - 0.05/2, n-1))\n",
        "valor_critico = stats.t.ppf(1 - 0.05/2, n-1)\n",
        "\n",
        "print(\"Erro padrão da média (EPM):\", EPM)\n",
        "print(\"Valor crítico:\", valor_critico)\n",
        "\n",
        "nivel_confianca = 1 - 2 * stats.t.sf(EPM / desvio_padrao, n-1)\n",
        "print(\"Nível de confiança:\", nivel_confianca)"
      ]
    },
    {
      "cell_type": "markdown",
      "id": "a3ebc2c6-70cd-4484-a152-c6d80c3f8efb",
      "metadata": {
        "id": "a3ebc2c6-70cd-4484-a152-c6d80c3f8efb"
      },
      "source": [
        "### Questão 15\n",
        "\n",
        "A survey was carried out to find out if Brazilians believe that Brazil will win the next world cup. A sample of 1000 Brazilians spread across the country and chosen at random was observed. Your result has been stored in file `./datasets/world_cup.csv`.\n",
        "\n",
        "Construct a 95% confidence interval on the Brazilian population who believes Brazil will win the next world cup. Use the method based on the Central Limit Theorem, Bootstrapping, and compare the results.\n",
        "\n",
        "**Tips**:\n",
        "- [Confidence Intervals for a Population Proportion](https://online.stat.psu.edu/stat100/lesson/9/9.1)\n",
        "- [statsmodels.stats.proportion.proportion_confint](https://www.statsmodels.org/dev/generated/statsmodels.stats.proportion.proportion_confint.html)"
      ]
    },
    {
      "cell_type": "code",
      "execution_count": null,
      "id": "f9cb41fd-aafa-4eb5-a07d-1eb92f8ba0d5",
      "metadata": {
        "id": "f9cb41fd-aafa-4eb5-a07d-1eb92f8ba0d5"
      },
      "outputs": [],
      "source": []
    },
    {
      "cell_type": "markdown",
      "id": "b7ff51c9-c354-411a-926e-6d8a703f35a0",
      "metadata": {
        "id": "b7ff51c9-c354-411a-926e-6d8a703f35a0"
      },
      "source": [
        "### Questão 16\n",
        "\n",
        "The municipal administration wants to estimate the proportion of color blind in the city. For that, they observed a random sample of individuals, where the data is stored in the dataset `'./datasets/color_blind.csv'`. The column `color_blind` tells whether or not the person is colorblind."
      ]
    },
    {
      "cell_type": "markdown",
      "id": "f37a462c-fe2f-439f-b60e-2062d8de0545",
      "metadata": {
        "id": "f37a462c-fe2f-439f-b60e-2062d8de0545"
      },
      "source": [
        "**(a)** Construct a confidence interval for the proportion of the color blind population using a confidence level of 99%. Use the method based on the Central Limit Theorem, Bootstrapping, and compare the results."
      ]
    },
    {
      "cell_type": "code",
      "execution_count": null,
      "id": "53664136-8ab2-4460-9d11-2af46d811756",
      "metadata": {
        "id": "53664136-8ab2-4460-9d11-2af46d811756"
      },
      "outputs": [],
      "source": []
    },
    {
      "cell_type": "markdown",
      "id": "fd5cd300-c4f7-442c-85a3-b08362d52788",
      "metadata": {
        "id": "fd5cd300-c4f7-442c-85a3-b08362d52788"
      },
      "source": [
        "**(b)** Consider that the the percentage of color blind people in the sample is 30%. Estimate the value of _n_ so that, with a significance level of 5%, the error in the estimate is less than 3.1%."
      ]
    },
    {
      "cell_type": "code",
      "execution_count": null,
      "id": "003fe8b8-3bd0-4a29-afe0-fcecb02c97fd",
      "metadata": {
        "id": "003fe8b8-3bd0-4a29-afe0-fcecb02c97fd"
      },
      "outputs": [],
      "source": []
    },
    {
      "cell_type": "markdown",
      "id": "9e37e951-39f7-48b9-a6a8-7244f4d3fa00",
      "metadata": {
        "id": "9e37e951-39f7-48b9-a6a8-7244f4d3fa00"
      },
      "source": [
        "### Questão 17\n",
        "\n",
        "The GoodFood restaurant offers _lunch_ and _dinner_ meals. There are two types of drinks: _juice_ and _soda_. GoodFood's manager suspects customers drink more soda at dinner. The manager randomly selects data from the system and the data was stored in the dataset `./datasets/goodfood.csv`. Each row contains the information of the meal time (column `meal`) and type of drink (column `drink`) ordered by the customer.\n",
        "\n",
        "Construct a 98% confidence interval for the proportion of ordering _soda_ for _dinner_ hours. Use the method based on the Central Limit Theorem, Bootstrapping, and compare the results."
      ]
    },
    {
      "cell_type": "code",
      "execution_count": null,
      "id": "e05191a9-b147-4daf-931a-dbe9d125cb00",
      "metadata": {
        "id": "e05191a9-b147-4daf-931a-dbe9d125cb00"
      },
      "outputs": [],
      "source": []
    }
  ],
  "metadata": {
    "kernelspec": {
      "display_name": "Python 3 (ipykernel)",
      "language": "python",
      "name": "python3"
    },
    "language_info": {
      "codemirror_mode": {
        "name": "ipython",
        "version": 3
      },
      "file_extension": ".py",
      "mimetype": "text/x-python",
      "name": "python",
      "nbconvert_exporter": "python",
      "pygments_lexer": "ipython3",
      "version": "3.9.5"
    },
    "colab": {
      "provenance": [],
      "include_colab_link": true
    }
  },
  "nbformat": 4,
  "nbformat_minor": 5
}